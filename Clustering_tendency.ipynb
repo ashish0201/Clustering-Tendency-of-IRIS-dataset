{
  "nbformat": 4,
  "nbformat_minor": 0,
  "metadata": {
    "colab": {
      "name": "Ashish_Gupta.ipynb",
      "provenance": []
    },
    "kernelspec": {
      "name": "python3",
      "display_name": "Python 3"
    }
  },
  "cells": [
    {
      "cell_type": "code",
      "metadata": {
        "id": "bTKr2cvVFL9V",
        "colab_type": "code",
        "colab": {}
      },
      "source": [
        "import numpy as np\n",
        "import pandas as pd\n",
        "import matplotlib.pyplot as plt\n",
        "from sklearn import datasets\n",
        "from sklearn.neighbors import NearestNeighbors"
      ],
      "execution_count": 0,
      "outputs": []
    },
    {
      "cell_type": "code",
      "metadata": {
        "id": "HbFDhA32GDQC",
        "colab_type": "code",
        "colab": {
          "base_uri": "https://localhost:8080/",
          "height": 279
        },
        "outputId": "8c9f0295-0692-4f4a-f5fb-bb3b378ba498"
      },
      "source": [
        "iris = datasets.load_iris()\n",
        "final_df = pd.DataFrame(data= np.c_[iris['data'], iris['target']],\n",
        "                     columns= iris['feature_names'] + ['target'])\n",
        "print(final_df)"
      ],
      "execution_count": 123,
      "outputs": [
        {
          "output_type": "stream",
          "text": [
            "     sepal length (cm)  sepal width (cm)  ...  petal width (cm)  target\n",
            "0                  5.1               3.5  ...               0.2     0.0\n",
            "1                  4.9               3.0  ...               0.2     0.0\n",
            "2                  4.7               3.2  ...               0.2     0.0\n",
            "3                  4.6               3.1  ...               0.2     0.0\n",
            "4                  5.0               3.6  ...               0.2     0.0\n",
            "..                 ...               ...  ...               ...     ...\n",
            "145                6.7               3.0  ...               2.3     2.0\n",
            "146                6.3               2.5  ...               1.9     2.0\n",
            "147                6.5               3.0  ...               2.0     2.0\n",
            "148                6.2               3.4  ...               2.3     2.0\n",
            "149                5.9               3.0  ...               1.8     2.0\n",
            "\n",
            "[150 rows x 5 columns]\n"
          ],
          "name": "stdout"
        }
      ]
    },
    {
      "cell_type": "markdown",
      "metadata": {
        "id": "1lIgjag6Jcdj",
        "colab_type": "text"
      },
      "source": [
        "Hopkins calculation"
      ]
    },
    {
      "cell_type": "code",
      "metadata": {
        "id": "uF0qeyIdJfQ4",
        "colab_type": "code",
        "colab": {}
      },
      "source": [
        "final_df1=final_df.drop(['target'], axis = 1)\n"
      ],
      "execution_count": 0,
      "outputs": []
    },
    {
      "cell_type": "code",
      "metadata": {
        "id": "FlrYGgY4Juii",
        "colab_type": "code",
        "colab": {
          "base_uri": "https://localhost:8080/",
          "height": 36
        },
        "outputId": "d9b3acd0-2130-4732-8b96-bdeaee74d369"
      },
      "source": [
        "n=15\n",
        "uniform_sample=np.random.uniform(0,1,n)*final_df1.shape[0]\n",
        "int(uniform_sample[0])"
      ],
      "execution_count": 125,
      "outputs": [
        {
          "output_type": "execute_result",
          "data": {
            "text/plain": [
              "94"
            ]
          },
          "metadata": {
            "tags": []
          },
          "execution_count": 125
        }
      ]
    },
    {
      "cell_type": "code",
      "metadata": {
        "id": "ZKXWnZauKKAv",
        "colab_type": "code",
        "colab": {
          "base_uri": "https://localhost:8080/",
          "height": 36
        },
        "outputId": "10dea04d-7e24-469a-d020-aa98c8dc2446"
      },
      "source": [
        "nbrs = NearestNeighbors(n_neighbors=2).fit(final_df1.values)\n",
        "distances, indices = nbrs.kneighbors(final_df1.values)\n",
        "distances.shape"
      ],
      "execution_count": 126,
      "outputs": [
        {
          "output_type": "execute_result",
          "data": {
            "text/plain": [
              "(150, 2)"
            ]
          },
          "metadata": {
            "tags": []
          },
          "execution_count": 126
        }
      ]
    },
    {
      "cell_type": "code",
      "metadata": {
        "id": "9UpcALjBNAGr",
        "colab_type": "code",
        "colab": {}
      },
      "source": [
        "random_sample=[]\n",
        "mini=final_df1.min(axis = 0)\n",
        "maxi=final_df1.max(axis = 0)\n",
        "col=list(final_df1.columns.values)\n",
        "for i in range(n):\n",
        "  lis=[]\n",
        "  for i in range(len(col)):\n",
        "    lis.append(np.random.uniform(mini[col[i]],maxi[col[i]]))\n",
        "  random_sample.append(lis)\n",
        "npa = np.asarray(random_sample, dtype=np.float32)\n"
      ],
      "execution_count": 0,
      "outputs": []
    },
    {
      "cell_type": "code",
      "metadata": {
        "id": "xP8udmBDNQyZ",
        "colab_type": "code",
        "colab": {
          "base_uri": "https://localhost:8080/",
          "height": 74
        },
        "outputId": "69946703-e883-48e7-9ab2-5f5584cff21a"
      },
      "source": [
        "lis1=[]\n",
        "lis2=[]\n",
        "for i in range(len(random_sample)):\n",
        "  distance,index = nbrs.kneighbors(npa[i].reshape(1,-1), 2, return_distance=True)\n",
        "  lis1.append(distance[0][1])\n",
        "  lis2.append(distances[int(uniform_sample[i])][1])\n",
        "\n",
        "print(lis1)\n",
        "print(lis2)"
      ],
      "execution_count": 128,
      "outputs": [
        {
          "output_type": "stream",
          "text": [
            "[0.6476337863199818, 1.2694003723490412, 1.5766926054751274, 1.6084675252828442, 1.532827087133148, 2.0325267716174205, 1.0159303047376804, 0.5731612516916131, 0.6763070842363673, 1.453816370104963, 1.0187906729356182, 1.150256176901916, 0.8605354070001088, 1.432443033736684, 1.0564187423904365]\n",
            "[0.17320508075688815, 0.1999999999999993, 0.1999999999999998, 0.26457513110645936, 0.14142135623730964, 0.14142135623730995, 0.20000000000000018, 0.14142135623730986, 0.1, 0.1732050807568884, 0.10000000000000009, 0.5567764362830021, 0.22360679774997877, 0.30000000000000016, 0.0]\n"
          ],
          "name": "stdout"
        }
      ]
    },
    {
      "cell_type": "code",
      "metadata": {
        "id": "-gG4oWOvNTtJ",
        "colab_type": "code",
        "colab": {
          "base_uri": "https://localhost:8080/",
          "height": 36
        },
        "outputId": "0324e7ff-a06e-4eb0-fdb7-f0d33c9e44c5"
      },
      "source": [
        "Hopkin_stats = sum(lis1) / (sum(lis1) + sum(lis2))\n",
        "Hopkin_stats"
      ],
      "execution_count": 129,
      "outputs": [
        {
          "output_type": "execute_result",
          "data": {
            "text/plain": [
              "0.8599656581985397"
            ]
          },
          "metadata": {
            "tags": []
          },
          "execution_count": 129
        }
      ]
    },
    {
      "cell_type": "markdown",
      "metadata": {
        "id": "UB7fNVe6eFAh",
        "colab_type": "text"
      },
      "source": [
        "#Summary\n",
        "\n",
        "##According to the research paper quoted:\n",
        "       \n",
        "##### A value for H higher than 0.75 indicates a clustering tendency at the 90% confidence level.\n",
        "\n",
        "##The null and the alternative hypotheses are defined as follow:\n",
        "\n",
        "###Null hypothesis: the dataset D is uniformly distributed which means no meaningful clusters.,\n",
        "\n",
        "###Alternative hypothesis: the dataset D is not uniformly distributed which means it contains meaningful clusters.\n",
        "        \n",
        "#####If the value of Hopkins statistic is close to 1, then we can reject the null hypothesis and conclude that the dataset D is significantly a clusterable data.\n",
        "#####When the above code is run multiple times on the IRIS Dataset, the Hopkins Statistic consistently evaluates to more than 0.8. (It differs everytime as the random uniform distribution gives different values in each run),\n",
        "#####Thus we can safely that the IRIS Dataset is highly clusterable and hence has high clustering tendency."
      ]
    }
  ]
}